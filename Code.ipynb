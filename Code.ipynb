{
 "cells": [
  {
   "cell_type": "code",
   "execution_count": 1,
   "id": "b4efa672",
   "metadata": {},
   "outputs": [],
   "source": [
    "# Import necessary libraries\n",
    "import numpy as np\n",
    "import pandas as pd\n",
    "import tensorflow as tf\n",
    "from tensorflow.keras import layers\n",
    "from sklearn.model_selection import train_test_split\n",
    "from sklearn.impute import SimpleImputer\n",
    "from sklearn.preprocessing import MinMaxScaler"
   ]
  },
  {
   "cell_type": "code",
   "execution_count": 2,
   "id": "d6f6bb8a",
   "metadata": {},
   "outputs": [],
   "source": [
    "# Load dataset\n",
    "data = pd.read_csv('Heart Dataset.csv', header=None)"
   ]
  },
  {
   "cell_type": "code",
   "execution_count": 3,
   "id": "4a0940c2",
   "metadata": {},
   "outputs": [],
   "source": [
    "# Set column names\n",
    "data.columns = ['age', 'sex', 'cp', 'trestbps', 'chol', 'fbs', 'restecg', 'thalach', 'exang', 'oldpeak', 'slope', 'ca', 'thal', 'target']"
   ]
  },
  {
   "cell_type": "code",
   "execution_count": 4,
   "id": "81f7dfe4",
   "metadata": {},
   "outputs": [],
   "source": [
    "# Replace missing values with NaN\n",
    "data = data.replace({'?': np.nan})"
   ]
  },
  {
   "cell_type": "code",
   "execution_count": 5,
   "id": "49270c55",
   "metadata": {},
   "outputs": [],
   "source": [
    "# Convert to numerical type\n",
    "data = data.apply(pd.to_numeric, errors='coerce')"
   ]
  },
  {
   "cell_type": "code",
   "execution_count": 6,
   "id": "b581eb75",
   "metadata": {},
   "outputs": [],
   "source": [
    "# Replace missing values with the average of the corresponding column\n",
    "imp = SimpleImputer(strategy='mean')\n",
    "data = pd.DataFrame(imp.fit_transform(data), columns=data.columns)"
   ]
  },
  {
   "cell_type": "code",
   "execution_count": 7,
   "id": "2b5509dc",
   "metadata": {},
   "outputs": [],
   "source": [
    "# Convert categorical variables to binary indicator variables\n",
    "data = pd.get_dummies(data, columns=['cp', 'restecg', 'slope', 'thal'])"
   ]
  },
  {
   "cell_type": "code",
   "execution_count": 8,
   "id": "5e0a67e2",
   "metadata": {},
   "outputs": [],
   "source": [
    "# Split data into features and target\n",
    "X = data.drop(['target'], axis=1).values\n",
    "y = data['target'].values"
   ]
  },
  {
   "cell_type": "code",
   "execution_count": 9,
   "id": "f7fda061",
   "metadata": {},
   "outputs": [],
   "source": [
    "# Scale data\n",
    "scaler = MinMaxScaler()\n",
    "X = scaler.fit_transform(X)"
   ]
  },
  {
   "cell_type": "code",
   "execution_count": 10,
   "id": "17a9dab2",
   "metadata": {},
   "outputs": [],
   "source": [
    "# Split data into training and testing sets\n",
    "X_train, X_test, y_train, y_test = train_test_split(X, y, test_size=0.2, random_state=42)"
   ]
  },
  {
   "cell_type": "code",
   "execution_count": 11,
   "id": "c80476bb",
   "metadata": {},
   "outputs": [],
   "source": [
    "# Reshape data for LSTM input\n",
    "X_train = np.reshape(X_train, (X_train.shape[0], X_train.shape[1], 1))\n",
    "X_test = np.reshape(X_test, (X_test.shape[0], X_test.shape[1], 1))"
   ]
  },
  {
   "cell_type": "code",
   "execution_count": 12,
   "id": "da3360b5",
   "metadata": {},
   "outputs": [],
   "source": [
    "# Define model architecture\n",
    "model = tf.keras.Sequential([\n",
    "    layers.LSTM(64, input_shape=(X_train.shape[1], 1)),\n",
    "    layers.BatchNormalization(),\n",
    "    layers.Dropout(0.5),\n",
    "    layers.Dense(32, activation='relu'),\n",
    "    layers.BatchNormalization(),\n",
    "    layers.Dropout(0.5),\n",
    "    layers.Dense(1, activation='sigmoid')\n",
    "])"
   ]
  },
  {
   "cell_type": "code",
   "execution_count": 13,
   "id": "27f4452b",
   "metadata": {},
   "outputs": [],
   "source": [
    "# Compile model\n",
    "model.compile(optimizer='adam', loss='binary_crossentropy', metrics=['accuracy'])"
   ]
  },
  {
   "cell_type": "code",
   "execution_count": 14,
   "id": "0bbf1b94",
   "metadata": {},
   "outputs": [
    {
     "name": "stdout",
     "output_type": "stream",
     "text": [
      "Epoch 1/50\n",
      "8/8 [==============================] - 7s 149ms/step - loss: 0.5704 - accuracy: 0.4202 - val_loss: 0.6599 - val_accuracy: 0.1667\n",
      "Epoch 2/50\n",
      "8/8 [==============================] - 0s 22ms/step - loss: -0.0845 - accuracy: 0.4622 - val_loss: 0.6124 - val_accuracy: 0.1667\n",
      "Epoch 3/50\n",
      "8/8 [==============================] - 0s 20ms/step - loss: -0.6020 - accuracy: 0.5084 - val_loss: 0.5485 - val_accuracy: 0.1667\n",
      "Epoch 4/50\n",
      "8/8 [==============================] - 0s 19ms/step - loss: -0.8272 - accuracy: 0.5126 - val_loss: 0.4680 - val_accuracy: 0.1667\n",
      "Epoch 5/50\n",
      "8/8 [==============================] - 0s 19ms/step - loss: -1.3014 - accuracy: 0.4958 - val_loss: 0.4119 - val_accuracy: 0.1667\n",
      "Epoch 6/50\n",
      "8/8 [==============================] - 0s 18ms/step - loss: -1.3973 - accuracy: 0.5336 - val_loss: 0.3698 - val_accuracy: 0.1667\n",
      "Epoch 7/50\n",
      "8/8 [==============================] - 0s 20ms/step - loss: -1.6602 - accuracy: 0.5168 - val_loss: 0.3550 - val_accuracy: 0.1667\n",
      "Epoch 8/50\n",
      "8/8 [==============================] - 0s 19ms/step - loss: -1.4540 - accuracy: 0.5084 - val_loss: 0.3294 - val_accuracy: 0.1667\n",
      "Epoch 9/50\n",
      "8/8 [==============================] - 0s 21ms/step - loss: -2.1032 - accuracy: 0.5042 - val_loss: 0.2622 - val_accuracy: 0.1667\n",
      "Epoch 10/50\n",
      "8/8 [==============================] - 0s 20ms/step - loss: -2.3215 - accuracy: 0.5252 - val_loss: 0.2012 - val_accuracy: 0.1667\n",
      "Epoch 11/50\n",
      "8/8 [==============================] - 0s 21ms/step - loss: -2.3801 - accuracy: 0.5168 - val_loss: 0.1877 - val_accuracy: 0.1667\n",
      "Epoch 12/50\n",
      "8/8 [==============================] - 0s 19ms/step - loss: -2.5436 - accuracy: 0.5168 - val_loss: 0.1545 - val_accuracy: 0.1667\n",
      "Epoch 13/50\n",
      "8/8 [==============================] - 0s 19ms/step - loss: -2.6688 - accuracy: 0.5294 - val_loss: 0.1248 - val_accuracy: 0.1667\n",
      "Epoch 14/50\n",
      "8/8 [==============================] - 0s 19ms/step - loss: -2.7252 - accuracy: 0.5126 - val_loss: 0.0735 - val_accuracy: 0.1667\n",
      "Epoch 15/50\n",
      "8/8 [==============================] - 0s 23ms/step - loss: -3.0733 - accuracy: 0.5294 - val_loss: 0.0245 - val_accuracy: 0.1667\n",
      "Epoch 16/50\n",
      "8/8 [==============================] - 0s 25ms/step - loss: -3.2782 - accuracy: 0.5378 - val_loss: -0.0250 - val_accuracy: 0.1667\n",
      "Epoch 17/50\n",
      "8/8 [==============================] - 0s 20ms/step - loss: -3.5593 - accuracy: 0.5084 - val_loss: -0.0635 - val_accuracy: 0.1667\n",
      "Epoch 18/50\n",
      "8/8 [==============================] - 0s 19ms/step - loss: -3.5289 - accuracy: 0.5336 - val_loss: -0.0900 - val_accuracy: 0.1667\n",
      "Epoch 19/50\n",
      "8/8 [==============================] - 0s 24ms/step - loss: -3.8100 - accuracy: 0.5252 - val_loss: -0.1830 - val_accuracy: 0.1667\n",
      "Epoch 20/50\n",
      "8/8 [==============================] - 0s 21ms/step - loss: -4.0445 - accuracy: 0.5168 - val_loss: -0.2410 - val_accuracy: 0.1667\n",
      "Epoch 21/50\n",
      "8/8 [==============================] - 0s 21ms/step - loss: -4.4495 - accuracy: 0.5630 - val_loss: -0.2349 - val_accuracy: 0.1667\n",
      "Epoch 22/50\n",
      "8/8 [==============================] - 0s 26ms/step - loss: -4.1944 - accuracy: 0.5210 - val_loss: -0.1294 - val_accuracy: 0.1667\n",
      "Epoch 23/50\n",
      "8/8 [==============================] - 0s 18ms/step - loss: -4.7590 - accuracy: 0.5462 - val_loss: -0.3278 - val_accuracy: 0.1667\n",
      "Epoch 24/50\n",
      "8/8 [==============================] - 0s 24ms/step - loss: -5.1663 - accuracy: 0.5252 - val_loss: -0.1070 - val_accuracy: 0.2667\n",
      "Epoch 25/50\n",
      "8/8 [==============================] - 0s 24ms/step - loss: -4.9592 - accuracy: 0.5462 - val_loss: -0.3299 - val_accuracy: 0.1667\n",
      "Epoch 26/50\n",
      "8/8 [==============================] - 0s 19ms/step - loss: -5.6610 - accuracy: 0.5294 - val_loss: 0.4873 - val_accuracy: 0.6167\n",
      "Epoch 27/50\n",
      "8/8 [==============================] - 0s 20ms/step - loss: -5.8098 - accuracy: 0.5168 - val_loss: -0.3443 - val_accuracy: 0.3000\n",
      "Epoch 28/50\n",
      "8/8 [==============================] - 0s 24ms/step - loss: -6.2109 - accuracy: 0.5504 - val_loss: -0.0328 - val_accuracy: 0.6167\n",
      "Epoch 29/50\n",
      "8/8 [==============================] - 0s 19ms/step - loss: -6.7301 - accuracy: 0.5252 - val_loss: 0.4019 - val_accuracy: 0.6167\n",
      "Epoch 30/50\n",
      "8/8 [==============================] - 0s 18ms/step - loss: -6.1031 - accuracy: 0.5420 - val_loss: -0.1845 - val_accuracy: 0.5833\n",
      "Epoch 31/50\n",
      "8/8 [==============================] - 0s 20ms/step - loss: -7.9485 - accuracy: 0.5294 - val_loss: -0.0244 - val_accuracy: 0.6333\n",
      "Epoch 32/50\n",
      "8/8 [==============================] - 0s 24ms/step - loss: -7.3033 - accuracy: 0.4832 - val_loss: 2.7369 - val_accuracy: 0.5500\n",
      "Epoch 33/50\n",
      "8/8 [==============================] - 0s 20ms/step - loss: -6.9915 - accuracy: 0.5126 - val_loss: 1.1415 - val_accuracy: 0.5833\n",
      "Epoch 34/50\n",
      "8/8 [==============================] - 0s 23ms/step - loss: -7.8912 - accuracy: 0.5420 - val_loss: 3.3740 - val_accuracy: 0.5500\n",
      "Epoch 35/50\n",
      "8/8 [==============================] - 0s 23ms/step - loss: -8.2621 - accuracy: 0.5210 - val_loss: 3.9317 - val_accuracy: 0.5500\n",
      "Epoch 36/50\n",
      "8/8 [==============================] - 0s 23ms/step - loss: -8.0667 - accuracy: 0.5126 - val_loss: 2.3311 - val_accuracy: 0.5500\n",
      "Epoch 37/50\n",
      "8/8 [==============================] - 0s 20ms/step - loss: -8.4910 - accuracy: 0.5252 - val_loss: 2.7940 - val_accuracy: 0.5500\n",
      "Epoch 38/50\n",
      "8/8 [==============================] - 0s 20ms/step - loss: -9.8025 - accuracy: 0.5294 - val_loss: 2.6003 - val_accuracy: 0.5500\n",
      "Epoch 39/50\n",
      "8/8 [==============================] - 0s 21ms/step - loss: -9.2815 - accuracy: 0.5294 - val_loss: 1.5804 - val_accuracy: 0.5833\n",
      "Epoch 40/50\n",
      "8/8 [==============================] - 0s 20ms/step - loss: -10.1798 - accuracy: 0.5462 - val_loss: 3.1288 - val_accuracy: 0.5500\n",
      "Epoch 41/50\n",
      "8/8 [==============================] - 0s 21ms/step - loss: -10.4908 - accuracy: 0.5252 - val_loss: 1.5368 - val_accuracy: 0.5833\n",
      "Epoch 42/50\n",
      "8/8 [==============================] - 0s 20ms/step - loss: -10.9719 - accuracy: 0.5336 - val_loss: 1.5569 - val_accuracy: 0.5833\n",
      "Epoch 43/50\n",
      "8/8 [==============================] - 0s 21ms/step - loss: -11.0561 - accuracy: 0.5336 - val_loss: 2.1891 - val_accuracy: 0.5667\n",
      "Epoch 44/50\n",
      "8/8 [==============================] - 0s 20ms/step - loss: -12.0891 - accuracy: 0.5294 - val_loss: 2.4371 - val_accuracy: 0.5667\n",
      "Epoch 45/50\n",
      "8/8 [==============================] - 0s 24ms/step - loss: -11.6142 - accuracy: 0.5336 - val_loss: 1.5240 - val_accuracy: 0.5833\n",
      "Epoch 46/50\n",
      "8/8 [==============================] - 0s 20ms/step - loss: -12.2446 - accuracy: 0.5294 - val_loss: 2.0675 - val_accuracy: 0.5833\n",
      "Epoch 47/50\n",
      "8/8 [==============================] - 0s 18ms/step - loss: -11.6588 - accuracy: 0.5000 - val_loss: -0.3986 - val_accuracy: 0.6167\n",
      "Epoch 48/50\n",
      "8/8 [==============================] - 0s 19ms/step - loss: -12.8101 - accuracy: 0.5294 - val_loss: 0.6334 - val_accuracy: 0.6000\n",
      "Epoch 49/50\n",
      "8/8 [==============================] - 0s 21ms/step - loss: -12.9002 - accuracy: 0.5168 - val_loss: 0.7002 - val_accuracy: 0.6000\n",
      "Epoch 50/50\n",
      "8/8 [==============================] - 0s 20ms/step - loss: -14.1488 - accuracy: 0.5084 - val_loss: 4.2765 - val_accuracy: 0.5500\n"
     ]
    },
    {
     "data": {
      "text/plain": [
       "<keras.callbacks.History at 0x26985f88490>"
      ]
     },
     "execution_count": 14,
     "metadata": {},
     "output_type": "execute_result"
    }
   ],
   "source": [
    "# Train model\n",
    "model.fit(X_train, y_train, epochs=50, batch_size=32, validation_data=(X_test, y_test))"
   ]
  },
  {
   "cell_type": "code",
   "execution_count": 30,
   "id": "a43fe0b6",
   "metadata": {},
   "outputs": [],
   "source": [
    "# Make predictions on new data\n",
    "new_data = np.array([[63, 1, 1, 145, 233, 1, 2, 150, 0, 2.3, 3, 0, 6]])"
   ]
  },
  {
   "cell_type": "code",
   "execution_count": 31,
   "id": "9276c465",
   "metadata": {},
   "outputs": [],
   "source": [
    "# Add 9 zeros to each input array\n",
    "new_data = np.hstack((new_data, np.zeros((len(new_data), 9))))"
   ]
  },
  {
   "cell_type": "code",
   "execution_count": 32,
   "id": "c83fc82a",
   "metadata": {},
   "outputs": [
    {
     "name": "stdout",
     "output_type": "stream",
     "text": [
      "1/1 [==============================] - 0s 25ms/step\n"
     ]
    }
   ],
   "source": [
    "new_data_scaled = scaler.transform(new_data)\n",
    "new_data_reshaped = np.reshape(new_data_scaled, (new_data_scaled.shape[0], new_data_scaled.shape[1], 1))\n",
    "predictions = model.predict(new_data_reshaped)"
   ]
  },
  {
   "cell_type": "code",
   "execution_count": 33,
   "id": "c729c09e",
   "metadata": {},
   "outputs": [
    {
     "name": "stdout",
     "output_type": "stream",
     "text": [
      "[[1.]]\n"
     ]
    }
   ],
   "source": [
    "#This statement will print the predicted values for the input data provided to the model. The output will be an array of \n",
    "#predicted values for each input sample, where each value represents the probability of having a heart disease. If the value is \n",
    "#closer to 1, it indicates a higher probability of having a heart disease, and if it's closer to 0, it indicates a lower \n",
    "#probability.\n",
    "print(predictions)"
   ]
  }
 ],
 "metadata": {
  "kernelspec": {
   "display_name": "Python 3 (ipykernel)",
   "language": "python",
   "name": "python3"
  },
  "language_info": {
   "codemirror_mode": {
    "name": "ipython",
    "version": 3
   },
   "file_extension": ".py",
   "mimetype": "text/x-python",
   "name": "python",
   "nbconvert_exporter": "python",
   "pygments_lexer": "ipython3",
   "version": "3.9.12"
  }
 },
 "nbformat": 4,
 "nbformat_minor": 5
}
